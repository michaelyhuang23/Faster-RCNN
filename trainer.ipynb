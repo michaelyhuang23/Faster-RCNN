{
 "cells": [
  {
   "cell_type": "code",
   "execution_count": 1,
   "source": [
    "import torch\r\n",
    "import torchvision\r\n",
    "from torchvision.models.detection import fasterrcnn_resnet50_fpn\r\n",
    "from torchvision.datasets.coco import CocoDetection\r\n",
    "from torchvision import transforms\r\n",
    "from torch.utils.data import DataLoader\r\n",
    "import utils\r\n",
    "from engine import train_one_epoch, evaluate\r\n",
    "from torch.utils.tensorboard import SummaryWriter"
   ],
   "outputs": [],
   "metadata": {}
  },
  {
   "cell_type": "code",
   "execution_count": 2,
   "source": [
    "model = fasterrcnn_resnet50_fpn(pretrained=False, pretrained_backbone=True)"
   ],
   "outputs": [],
   "metadata": {}
  },
  {
   "cell_type": "code",
   "execution_count": null,
   "source": [
    "dataset = CocoDetection('val2017', 'annotations/instances_val2017.json',transform=transforms.ToTensor())\r\n",
    "print(dataset[0][0].shape)"
   ],
   "outputs": [],
   "metadata": {}
  },
  {
   "cell_type": "code",
   "execution_count": null,
   "source": [
    "print(dataset[0][1])"
   ],
   "outputs": [],
   "metadata": {}
  },
  {
   "cell_type": "code",
   "execution_count": null,
   "source": [
    "print(dataset[0][1][0]['bbox'])"
   ],
   "outputs": [],
   "metadata": {}
  },
  {
   "cell_type": "code",
   "execution_count": 3,
   "source": [
    "class DetectDataset(CocoDetection):\r\n",
    "    def __init__(self, root, annFile) -> None:\r\n",
    "        super().__init__(root, annFile, transforms.ToTensor())\r\n",
    "        self.novel_cls = [1, 17, 16, 21, 18, 19, 20, 2, 9, 6, 3, 4, 7, 44, 62, 67, 64, 63, 72]\r\n",
    "        self.base_cls = [i for i in range(1,91) if i not in self.novel_cls]\r\n",
    "    def __getitem__(self, index):\r\n",
    "        img, target = super().__getitem__(index)\r\n",
    "        if target is None or len(target)==0:\r\n",
    "            return None, None\r\n",
    "        nTarget = {'boxes':[], 'labels':[], 'image_id':target[0]['image_id']}\r\n",
    "        for t in target:\r\n",
    "            box = t['bbox'].copy()\r\n",
    "            box[2] += box[0]\r\n",
    "            box[3] += box[1]\r\n",
    "            if box[2]-box[0] < 1 or box[3]-box[1] < 1:\r\n",
    "                continue\r\n",
    "            cate = t['category_id']\r\n",
    "            if cate in self.novel_cls:\r\n",
    "                continue\r\n",
    "            nTarget['boxes'].append(box)\r\n",
    "            nTarget['labels'].append(cate)\r\n",
    "        nTarget = {key:torch.tensor(val) for key, val in nTarget.items()}\r\n",
    "        return img, nTarget\r\n",
    "    def __len__(self):\r\n",
    "        return super().__len__()"
   ],
   "outputs": [],
   "metadata": {}
  },
  {
   "cell_type": "code",
   "execution_count": 4,
   "source": [
    "valset = DetectDataset('val2017', 'annotations/instances_val2017.json')\r\n",
    "trainset = DetectDataset('train2017', 'annotations/instances_train2017.json')\r\n",
    "valset[5]"
   ],
   "outputs": [
    {
     "output_type": "stream",
     "name": "stdout",
     "text": [
      "loading annotations into memory...\n",
      "Done (t=0.61s)\n",
      "creating index...\n",
      "index created!\n",
      "loading annotations into memory...\n",
      "Done (t=15.64s)\n",
      "creating index...\n",
      "index created!\n"
     ]
    },
    {
     "output_type": "execute_result",
     "data": {
      "text/plain": [
       "(tensor([[[0.7961, 0.7961, 0.7961,  ..., 0.8588, 0.8588, 0.8588],\n",
       "          [0.7961, 0.8000, 0.8000,  ..., 0.8549, 0.8549, 0.8549],\n",
       "          [0.8039, 0.8039, 0.8039,  ..., 0.8588, 0.8588, 0.8588],\n",
       "          ...,\n",
       "          [0.8902, 0.8667, 0.8314,  ..., 0.7647, 0.7725, 0.7765],\n",
       "          [0.8627, 0.8588, 0.8588,  ..., 0.7451, 0.7451, 0.7490],\n",
       "          [0.8510, 0.8353, 0.8588,  ..., 0.7294, 0.7373, 0.7412]],\n",
       " \n",
       "         [[0.8078, 0.8078, 0.8078,  ..., 0.8588, 0.8588, 0.8588],\n",
       "          [0.8078, 0.8118, 0.8118,  ..., 0.8549, 0.8549, 0.8549],\n",
       "          [0.8157, 0.8157, 0.8157,  ..., 0.8588, 0.8588, 0.8588],\n",
       "          ...,\n",
       "          [0.8902, 0.8667, 0.8314,  ..., 0.7765, 0.7843, 0.7882],\n",
       "          [0.8627, 0.8588, 0.8549,  ..., 0.7569, 0.7569, 0.7608],\n",
       "          [0.8471, 0.8314, 0.8627,  ..., 0.7451, 0.7529, 0.7608]],\n",
       " \n",
       "         [[0.8353, 0.8353, 0.8353,  ..., 0.8667, 0.8667, 0.8667],\n",
       "          [0.8353, 0.8392, 0.8392,  ..., 0.8627, 0.8627, 0.8627],\n",
       "          [0.8431, 0.8431, 0.8431,  ..., 0.8667, 0.8667, 0.8667],\n",
       "          ...,\n",
       "          [0.8980, 0.8745, 0.8392,  ..., 0.7961, 0.8039, 0.8078],\n",
       "          [0.8706, 0.8667, 0.8745,  ..., 0.7843, 0.7843, 0.7804],\n",
       "          [0.8706, 0.8510, 0.8784,  ..., 0.7882, 0.7961, 0.7765]]]),\n",
       " {'boxes': tensor([[205.3400, 362.2100, 615.0600, 400.4100]]),\n",
       "  'labels': tensor([35]),\n",
       "  'image_id': tensor(785)})"
      ]
     },
     "metadata": {},
     "execution_count": 4
    }
   ],
   "metadata": {}
  },
  {
   "cell_type": "code",
   "execution_count": 5,
   "source": [
    "val = DataLoader(valset,batch_size = 1, shuffle=True, collate_fn=utils.collate_fn)\r\n",
    "train = DataLoader(trainset,batch_size = 1, shuffle=True, collate_fn=utils.collate_fn)"
   ],
   "outputs": [],
   "metadata": {}
  },
  {
   "cell_type": "code",
   "execution_count": null,
   "source": [
    "print(next(iter(val))[1])"
   ],
   "outputs": [],
   "metadata": {}
  },
  {
   "cell_type": "code",
   "execution_count": null,
   "source": [
    "img, labs = next(iter(val))\r\n",
    "print(img[0].shape)\r\n",
    "print(labs[0])"
   ],
   "outputs": [],
   "metadata": {}
  },
  {
   "cell_type": "code",
   "execution_count": null,
   "source": [
    "device = torch.device('cuda') if torch.cuda.is_available() else torch.device('cpu')\r\n",
    "model.to(device)\r\n",
    "model.load_state_dict(torch.load('fasterrcnn1.weights'))\r\n",
    "writer = SummaryWriter()\r\n",
    "params = [p for p in model.parameters() if p.requires_grad]\r\n",
    "optimizer = torch.optim.Adam(params,lr=0.0001)\r\n",
    "#optimizer = torch.optim.SGD(params, lr=0.0002, momentum=0.9, weight_decay=0.0001)\r\n",
    "#model.load_state_dict(torch.load('fasterrcnn0.weights'))\r\n",
    "num_epochs = 18\r\n",
    "for epoch in range(num_epochs):\r\n",
    "    train_one_epoch(writer, model, optimizer, val, device, epoch, print_freq=1000)\r\n",
    "    evaluate(writer, model, val, device, print_freq=1000)\r\n",
    "    torch.save(model.state_dict(), f'fasterrcnn1.weights')"
   ],
   "outputs": [
    {
     "output_type": "error",
     "ename": "Error",
     "evalue": "Kernel is dead",
     "traceback": [
      "Error: Kernel is dead",
      "at g._sendKernelShellControl (c:\\Users\\yhuang23\\.vscode\\extensions\\ms-toolsai.jupyter-2021.8.2041215044\\out\\client\\extension.js:52:1006195)",
      "at g.sendShellMessage (c:\\Users\\yhuang23\\.vscode\\extensions\\ms-toolsai.jupyter-2021.8.2041215044\\out\\client\\extension.js:52:1005964)",
      "at g.requestExecute (c:\\Users\\yhuang23\\.vscode\\extensions\\ms-toolsai.jupyter-2021.8.2041215044\\out\\client\\extension.js:52:1008506)",
      "at d.requestExecute (c:\\Users\\yhuang23\\.vscode\\extensions\\ms-toolsai.jupyter-2021.8.2041215044\\out\\client\\extension.js:37:325680)",
      "at w.requestExecute (c:\\Users\\yhuang23\\.vscode\\extensions\\ms-toolsai.jupyter-2021.8.2041215044\\out\\client\\extension.js:32:18027)",
      "at w.executeCodeCell (c:\\Users\\yhuang23\\.vscode\\extensions\\ms-toolsai.jupyter-2021.8.2041215044\\out\\client\\extension.js:52:301076)",
      "at w.execute (c:\\Users\\yhuang23\\.vscode\\extensions\\ms-toolsai.jupyter-2021.8.2041215044\\out\\client\\extension.js:52:300703)",
      "at w.start (c:\\Users\\yhuang23\\.vscode\\extensions\\ms-toolsai.jupyter-2021.8.2041215044\\out\\client\\extension.js:52:296367)",
      "at runMicrotasks (<anonymous>)",
      "at processTicksAndRejections (internal/process/task_queues.js:93:5)",
      "at async t.CellExecutionQueue.executeQueuedCells (c:\\Users\\yhuang23\\.vscode\\extensions\\ms-toolsai.jupyter-2021.8.2041215044\\out\\client\\extension.js:52:311160)",
      "at async t.CellExecutionQueue.start (c:\\Users\\yhuang23\\.vscode\\extensions\\ms-toolsai.jupyter-2021.8.2041215044\\out\\client\\extension.js:52:310700)"
     ]
    }
   ],
   "metadata": {}
  },
  {
   "cell_type": "code",
   "execution_count": null,
   "source": [
    "device = torch.device('cuda') if torch.cuda.is_available() else torch.device('cpu')\r\n",
    "model.to(device)\r\n",
    "params = [p for p in model.parameters() if p.requires_grad]\r\n",
    "optimizer = torch.optim.Adam(params,lr=0.0001)\r\n",
    "#optimizer = torch.optim.SGD(params, lr=0.02, momentum=0.9, weight_decay=0.0001)\r\n",
    "#model.load_state_dict(torch.load('fasterrcnn0.weights'))\r\n",
    "num_epochs = 18\r\n",
    "for epoch in range(num_epochs):\r\n",
    "    train_one_epoch(model, optimizer, train, device, epoch, print_freq=10000)\r\n",
    "    evaluate(model, val, device, print_freq=1000)\r\n",
    "    torch.save(model.state_dict(), f'fasterrcnn2.weights')"
   ],
   "outputs": [
    {
     "output_type": "error",
     "ename": "Error",
     "evalue": "Kernel is dead",
     "traceback": [
      "Error: Kernel is dead",
      "at g._sendKernelShellControl (c:\\Users\\yhuang23\\.vscode\\extensions\\ms-toolsai.jupyter-2021.8.2041215044\\out\\client\\extension.js:52:1006195)",
      "at g.sendShellMessage (c:\\Users\\yhuang23\\.vscode\\extensions\\ms-toolsai.jupyter-2021.8.2041215044\\out\\client\\extension.js:52:1005964)",
      "at g.requestExecute (c:\\Users\\yhuang23\\.vscode\\extensions\\ms-toolsai.jupyter-2021.8.2041215044\\out\\client\\extension.js:52:1008506)",
      "at d.requestExecute (c:\\Users\\yhuang23\\.vscode\\extensions\\ms-toolsai.jupyter-2021.8.2041215044\\out\\client\\extension.js:37:325680)",
      "at w.requestExecute (c:\\Users\\yhuang23\\.vscode\\extensions\\ms-toolsai.jupyter-2021.8.2041215044\\out\\client\\extension.js:32:18027)",
      "at w.executeCodeCell (c:\\Users\\yhuang23\\.vscode\\extensions\\ms-toolsai.jupyter-2021.8.2041215044\\out\\client\\extension.js:52:301076)",
      "at w.execute (c:\\Users\\yhuang23\\.vscode\\extensions\\ms-toolsai.jupyter-2021.8.2041215044\\out\\client\\extension.js:52:300703)",
      "at w.start (c:\\Users\\yhuang23\\.vscode\\extensions\\ms-toolsai.jupyter-2021.8.2041215044\\out\\client\\extension.js:52:296367)",
      "at runMicrotasks (<anonymous>)",
      "at processTicksAndRejections (internal/process/task_queues.js:93:5)",
      "at async t.CellExecutionQueue.executeQueuedCells (c:\\Users\\yhuang23\\.vscode\\extensions\\ms-toolsai.jupyter-2021.8.2041215044\\out\\client\\extension.js:52:311160)",
      "at async t.CellExecutionQueue.start (c:\\Users\\yhuang23\\.vscode\\extensions\\ms-toolsai.jupyter-2021.8.2041215044\\out\\client\\extension.js:52:310700)"
     ]
    }
   ],
   "metadata": {}
  },
  {
   "cell_type": "code",
   "execution_count": null,
   "source": [
    "model = fasterrcnn_resnet50_fpn(pretrained=True)\r\n",
    "model.to(device)\r\n",
    "evaluate(model, val, device)"
   ],
   "outputs": [],
   "metadata": {}
  },
  {
   "cell_type": "code",
   "execution_count": null,
   "source": [
    "img, lab = next(iter(val))\r\n",
    "model = fasterrcnn_resnet50_fpn(pretrained=True)\r\n",
    "model.to(device)\r\n",
    "model.eval()\r\n",
    "pred = model([im.to(device) for im in img])\r\n",
    "print(pred)\r\n",
    "print(lab)"
   ],
   "outputs": [],
   "metadata": {}
  },
  {
   "cell_type": "code",
   "execution_count": null,
   "source": [],
   "outputs": [],
   "metadata": {}
  }
 ],
 "metadata": {
  "orig_nbformat": 4,
  "language_info": {
   "name": "python",
   "version": "3.8.8",
   "mimetype": "text/x-python",
   "codemirror_mode": {
    "name": "ipython",
    "version": 3
   },
   "pygments_lexer": "ipython3",
   "nbconvert_exporter": "python",
   "file_extension": ".py"
  },
  "kernelspec": {
   "name": "python3",
   "display_name": "Python 3.8.8 64-bit ('base': conda)"
  },
  "interpreter": {
   "hash": "ffd82f8d72e563eba14b1d4f6594741c9fa7b31d43f0e0d20203579fc0b86d5d"
  }
 },
 "nbformat": 4,
 "nbformat_minor": 2
}